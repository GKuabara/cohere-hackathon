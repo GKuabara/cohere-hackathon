{
 "cells": [
  {
   "cell_type": "code",
   "execution_count": 5,
   "metadata": {},
   "outputs": [],
   "source": [
    "import cohere\n",
    "co = cohere.Client('lfE7VQJQhLyND4U5JxlMVJin2H3xBCGGz3k8cvSA')"
   ]
  },
  {
   "cell_type": "code",
   "execution_count": null,
   "metadata": {},
   "outputs": [],
   "source": [
    "import pandas as pd\n",
    "from collections import defaultdict"
   ]
  },
  {
   "cell_type": "code",
   "execution_count": null,
   "metadata": {},
   "outputs": [
    {
     "data": {
      "text/html": [
       "<div>\n",
       "<style scoped>\n",
       "    .dataframe tbody tr th:only-of-type {\n",
       "        vertical-align: middle;\n",
       "    }\n",
       "\n",
       "    .dataframe tbody tr th {\n",
       "        vertical-align: top;\n",
       "    }\n",
       "\n",
       "    .dataframe thead th {\n",
       "        text-align: right;\n",
       "    }\n",
       "</style>\n",
       "<table border=\"1\" class=\"dataframe\">\n",
       "  <thead>\n",
       "    <tr style=\"text-align: right;\">\n",
       "      <th></th>\n",
       "      <th>artist</th>\n",
       "      <th>track</th>\n",
       "      <th>seeds</th>\n",
       "      <th>number_of_emotion_tags</th>\n",
       "    </tr>\n",
       "  </thead>\n",
       "  <tbody>\n",
       "    <tr>\n",
       "      <th>0</th>\n",
       "      <td>Eminem</td>\n",
       "      <td>'Till I Collapse</td>\n",
       "      <td>['aggressive']</td>\n",
       "      <td>6</td>\n",
       "    </tr>\n",
       "    <tr>\n",
       "      <th>1</th>\n",
       "      <td>Metallica</td>\n",
       "      <td>St. Anger</td>\n",
       "      <td>['aggressive']</td>\n",
       "      <td>8</td>\n",
       "    </tr>\n",
       "    <tr>\n",
       "      <th>2</th>\n",
       "      <td>Rick Ross</td>\n",
       "      <td>Speedin'</td>\n",
       "      <td>['aggressive']</td>\n",
       "      <td>1</td>\n",
       "    </tr>\n",
       "    <tr>\n",
       "      <th>3</th>\n",
       "      <td>M.I.A.</td>\n",
       "      <td>Bamboo Banga</td>\n",
       "      <td>['aggressive', 'fun', 'sexy', 'energetic']</td>\n",
       "      <td>13</td>\n",
       "    </tr>\n",
       "    <tr>\n",
       "      <th>4</th>\n",
       "      <td>Dope</td>\n",
       "      <td>Die MF Die</td>\n",
       "      <td>['aggressive']</td>\n",
       "      <td>7</td>\n",
       "    </tr>\n",
       "  </tbody>\n",
       "</table>\n",
       "</div>"
      ],
      "text/plain": [
       "      artist             track                                       seeds  \\\n",
       "0     Eminem  'Till I Collapse                              ['aggressive']   \n",
       "1  Metallica         St. Anger                              ['aggressive']   \n",
       "2  Rick Ross          Speedin'                              ['aggressive']   \n",
       "3     M.I.A.      Bamboo Banga  ['aggressive', 'fun', 'sexy', 'energetic']   \n",
       "4       Dope        Die MF Die                              ['aggressive']   \n",
       "\n",
       "   number_of_emotion_tags  \n",
       "0                       6  \n",
       "1                       8  \n",
       "2                       1  \n",
       "3                      13  \n",
       "4                       7  "
      ]
     },
     "execution_count": 35,
     "metadata": {},
     "output_type": "execute_result"
    }
   ],
   "source": [
    "dataset = pd.read_csv('muse_v3.csv')[['artist', 'track', 'seeds', 'number_of_emotion_tags']]\n",
    "dataset.head()"
   ]
  },
  {
   "cell_type": "markdown",
   "metadata": {},
   "source": [
    "Getting lyrics"
   ]
  },
  {
   "cell_type": "code",
   "execution_count": null,
   "metadata": {},
   "outputs": [],
   "source": [
    "from lyricsgenius import Genius\n",
    "\n",
    "token = open('TOKEN').readline()\n",
    "genius = Genius(token)"
   ]
  },
  {
   "cell_type": "code",
   "execution_count": null,
   "metadata": {},
   "outputs": [],
   "source": [
    "from collections import defaultdict\n",
    "import re\n",
    "\n",
    "AMT_OF_SONGS = 2000\n",
    "\n",
    "i, songs = 0, {}\n",
    "emotions = set()\n",
    "musics_by_emotion = defaultdict(list)\n",
    "for name, artist, seeds, song in zip(dataset['track'], dataset['artist'], dataset['seeds'], dataset['track']):\n",
    "    artist_name = '-'.join(re.sub(r'[^a-zA-Z0-9_ ]+', '', artist).split(' '))\n",
    "    song_name = '-'.join(re.sub(r'[^a-zA-Z0-9_ ]+', '', song).split(' '))\n",
    "\n",
    "    url = f\"https://genius.com/{artist_name}-{song_name}-lyrics\"\n",
    "    try:\n",
    "        lyrics = genius.lyrics(song_url=url)\n",
    "        lyrics = '\\n'.join(lyrics.split('\\n')[1:]) # removing contributors line\n",
    "        songs[(artist, song)] = lyrics\n",
    "\n",
    "        for emotion in seeds[1:-1].split(','):\n",
    "            x = emotion.strip()[1:-1]\n",
    "            emotions.add(x)\n",
    "            musics_by_emotion[x].append((artist, name))\n",
    "        i += 1\n",
    "        if i == AMT_OF_SONGS: \n",
    "            break\n",
    "    except: \n",
    "        continue"
   ]
  },
  {
   "cell_type": "markdown",
   "metadata": {},
   "source": [
    "Assigning emotions"
   ]
  },
  {
   "cell_type": "code",
   "execution_count": null,
   "metadata": {},
   "outputs": [],
   "source": [
    "top_emotions = []\n",
    "for emotion, tracks in musics_by_emotion.items():\n",
    "    top_emotions.append([emotion, len(tracks)])"
   ]
  },
  {
   "cell_type": "code",
   "execution_count": null,
   "metadata": {},
   "outputs": [],
   "source": [
    "top_emotions = sorted(top_emotions, key=lambda x: -x[1])"
   ]
  },
  {
   "cell_type": "code",
   "execution_count": null,
   "metadata": {},
   "outputs": [],
   "source": [
    "from cohere.responses.classify import Example\n",
    "from random import sample\n",
    "\n",
    "examples = [] \n",
    "for emotion, amt in top_emotions:\n",
    "    if amt < 5: break\n",
    "    songs_sample = sample(musics_by_emotion[emotion], 5)\n",
    "    # print(sample)\n",
    "    for song in songs_sample:\n",
    "        lrx = songs[song] \n",
    "        while not lrx:\n",
    "            lrx = songs[sample(musics_by_emotion[emotion], 1)[0]]     \n",
    "        examples.append(Example(lrx, emotion))\n"
   ]
  },
  {
   "cell_type": "code",
   "execution_count": null,
   "metadata": {},
   "outputs": [],
   "source": [
    "lyrics = genius.lyrics(song_url='https://genius.com/slayer-raining-blood-lyrics')\n",
    "lyrics = '\\n'.join(lyrics.split('\\n')[1:])\n",
    "inputs = [lyrics]"
   ]
  },
  {
   "cell_type": "code",
   "execution_count": null,
   "metadata": {},
   "outputs": [],
   "source": [
    "response = co.classify(\n",
    "  model='large',\n",
    "  inputs=inputs,\n",
    "  examples=examples,\n",
    ")"
   ]
  },
  {
   "cell_type": "code",
   "execution_count": null,
   "metadata": {},
   "outputs": [
    {
     "name": "stdout",
     "output_type": "stream",
     "text": [
      "[Classification<prediction: \"negative\", confidence: 0.15187037, labels: {'aggressive': LabelPrediction(confidence=0.0071394774), 'angry': LabelPrediction(confidence=0.0020761038), 'angst-ridden': LabelPrediction(confidence=8.489971e-05), 'apocalyptic': LabelPrediction(confidence=0.00504946), 'bitter': LabelPrediction(confidence=0.001380384), 'bittersweet': LabelPrediction(confidence=9.683359e-05), 'brash': LabelPrediction(confidence=0.0002146803), 'brooding': LabelPrediction(confidence=0.005594352), 'cathartic': LabelPrediction(confidence=0.0018577385), 'cold': LabelPrediction(confidence=0.0013831706), 'comic': LabelPrediction(confidence=0.00019707909), 'confrontational': LabelPrediction(confidence=4.6491627e-05), 'cynical': LabelPrediction(confidence=0.0018596295), 'dark': LabelPrediction(confidence=0.056621358), 'defiant': LabelPrediction(confidence=0.00054946134), 'demonic': LabelPrediction(confidence=0.027741263), 'desperate': LabelPrediction(confidence=0.10413744), 'dramatic': LabelPrediction(confidence=0.0018377331), 'driving': LabelPrediction(confidence=0.0058762664), 'earnest': LabelPrediction(confidence=0.00046014122), 'eccentric': LabelPrediction(confidence=0.00016776808), 'ecstatic': LabelPrediction(confidence=6.0535294e-05), 'eerie': LabelPrediction(confidence=0.0013711218), 'elegant': LabelPrediction(confidence=0.002168191), 'energetic': LabelPrediction(confidence=0.004355368), 'epic': LabelPrediction(confidence=0.0046862424), 'erotic': LabelPrediction(confidence=0.00060616917), 'ethereal': LabelPrediction(confidence=0.0020666432), 'exciting': LabelPrediction(confidence=0.025390835), 'explosive': LabelPrediction(confidence=0.00056689227), 'feral': LabelPrediction(confidence=0.00882787), 'fierce': LabelPrediction(confidence=0.00022750956), 'fiery': LabelPrediction(confidence=0.01993221), 'flowing': LabelPrediction(confidence=0.0017146334), 'fun': LabelPrediction(confidence=0.0014038183), 'gentle': LabelPrediction(confidence=0.00026343044), 'gloomy': LabelPrediction(confidence=0.005659645), 'grim': LabelPrediction(confidence=0.0035770612), 'gritty': LabelPrediction(confidence=0.00961739), 'halloween': LabelPrediction(confidence=0.000107164844), 'harsh': LabelPrediction(confidence=0.08469527), 'hostile': LabelPrediction(confidence=0.0010315722), 'hypnotic': LabelPrediction(confidence=0.008645919), 'intense': LabelPrediction(confidence=0.0040347697), 'ironic': LabelPrediction(confidence=0.0053332304), 'literate': LabelPrediction(confidence=0.0011414423), 'lush': LabelPrediction(confidence=0.0074905218), 'lyrical': LabelPrediction(confidence=0.0005352845), 'martial': LabelPrediction(confidence=0.0061705844), 'menacing': LabelPrediction(confidence=0.0008583391), 'mysterious': LabelPrediction(confidence=0.0020162947), 'mystical': LabelPrediction(confidence=0.0051860106), 'negative': LabelPrediction(confidence=0.15187037), 'nocturnal': LabelPrediction(confidence=0.00041572913), 'nostalgic': LabelPrediction(confidence=0.048532974), 'ominous': LabelPrediction(confidence=0.0031862927), 'paranoid': LabelPrediction(confidence=0.0007108352), 'passionate': LabelPrediction(confidence=0.051493194), 'playful': LabelPrediction(confidence=0.00013146577), 'poignant': LabelPrediction(confidence=0.0019356057), 'positive': LabelPrediction(confidence=0.0019158602), 'powerful': LabelPrediction(confidence=0.024147192), 'precious': LabelPrediction(confidence=0.0013128902), 'provocative': LabelPrediction(confidence=0.00011772707), 'quirky': LabelPrediction(confidence=0.005897712), 'rebellious': LabelPrediction(confidence=0.0011948298), 'refined': LabelPrediction(confidence=0.0032656016), 'reflective': LabelPrediction(confidence=0.0011717385), 'relaxed': LabelPrediction(confidence=0.00040540498), 'reserved': LabelPrediction(confidence=0.0024989895), 'rousing': LabelPrediction(confidence=0.0018130213), 'sacred': LabelPrediction(confidence=0.0005733793), 'sarcastic': LabelPrediction(confidence=0.0005226939), 'scary': LabelPrediction(confidence=0.010384797), 'sensual': LabelPrediction(confidence=0.0018707193), 'sentimental': LabelPrediction(confidence=0.08243646), 'sexual': LabelPrediction(confidence=9.026452e-05), 'sexy': LabelPrediction(confidence=0.00042090003), 'silly': LabelPrediction(confidence=0.028016776), 'smooth': LabelPrediction(confidence=0.0010110852), 'soft': LabelPrediction(confidence=0.0023920326), 'soothing': LabelPrediction(confidence=4.8928847e-05), 'sophisticated': LabelPrediction(confidence=0.0006118137), 'spiritual': LabelPrediction(confidence=0.0013119964), 'spooky': LabelPrediction(confidence=0.0010373482), 'street-smart': LabelPrediction(confidence=2.653434e-05), 'strong': LabelPrediction(confidence=0.0011621865), 'stylish': LabelPrediction(confidence=0.0046870774), 'sweet': LabelPrediction(confidence=0.00036438036), 'technical': LabelPrediction(confidence=0.006826182), 'tense': LabelPrediction(confidence=0.0076626213), 'theatrical': LabelPrediction(confidence=0.048625473), 'thoughtful': LabelPrediction(confidence=0.0002691053), 'tragic': LabelPrediction(confidence=0.0019954196), 'trippy': LabelPrediction(confidence=0.0007406361), 'triumphant': LabelPrediction(confidence=0.0029645185), 'unsettling': LabelPrediction(confidence=0.0015993078), 'uplifting': LabelPrediction(confidence=0.00088927144), 'urgent': LabelPrediction(confidence=0.0020233034), 'visceral': LabelPrediction(confidence=0.015020817), 'volatile': LabelPrediction(confidence=0.0040697525), 'warm': LabelPrediction(confidence=0.0069754403), 'wistful': LabelPrediction(confidence=0.004192512), 'witty': LabelPrediction(confidence=0.00016011955), 'yearning': LabelPrediction(confidence=0.012885017)}>]\n"
     ]
    }
   ],
   "source": [
    "print(response.classifications)"
   ]
  },
  {
   "cell_type": "code",
   "execution_count": null,
   "metadata": {},
   "outputs": [],
   "source": [
    "prompt = f\"rewrite the following lyrics, but with a positive mood:\\n{lyrics}\"\n",
    "response = co.generate(  \n",
    "    model='command-nightly',  \n",
    "    prompt = prompt,\n",
    "    temperature=0.750)\n",
    "\n",
    "intro_paragraph = response.generations[0].text"
   ]
  },
  {
   "cell_type": "code",
   "execution_count": null,
   "metadata": {},
   "outputs": [
    {
     "name": "stdout",
     "output_type": "stream",
     "text": [
      " [Verse]\n",
      "I'm free from the chains of my past,\n",
      "Strengthened by the struggles I faced.\n",
      "No longer at the mercy of others,\n",
      "I've risen like a fiery phoenix.\n",
      "\n",
      "The sky above isn't a warning,\n",
      "It's a canvas of infinite possibilities.\n",
      "I'm reaching for the stars,\n",
      "Ready to soar to new heights.\n",
      "\n",
      "[Bridge]\n",
      "I am the architect of my destiny,\n",
      "Building a future with my own two hands.\n",
      "I pierce through negativity,\n",
      "Leaving my past traumas behind.\n",
      "I'm guided by love and light,\n",
      "Unshakable, I stand strong.\n",
      "\n",
      "[Chorus]\n",
      "Reigning in a world of vibrant colors,\n",
      "I'm bathed in the rain of prosperity.\n",
      "It's a world where I can be myself,\n",
      "Fulfilling my destiny with a joyful spirit.\n",
      "In this new realm of infinite beauty,\n",
      "I stand tall, with head held high.\n",
      "\n",
      "This rewrite focuses on the theme of personal growth, resilience, and the power to overcome challenges. It highlights the protagonist's transformation from a state of being trapped and powerless to a place of strength, self-actualization, and positive outlook. \n"
     ]
    }
   ],
   "source": [
    "for line in intro_paragraph.split('\\n'):\n",
    "    print(line)"
   ]
  }
 ],
 "metadata": {
  "kernelspec": {
   "display_name": "cohere",
   "language": "python",
   "name": "python3"
  },
  "language_info": {
   "codemirror_mode": {
    "name": "ipython",
    "version": 3
   },
   "file_extension": ".py",
   "mimetype": "text/x-python",
   "name": "python",
   "nbconvert_exporter": "python",
   "pygments_lexer": "ipython3",
   "version": "3.8.10"
  }
 },
 "nbformat": 4,
 "nbformat_minor": 2
}
